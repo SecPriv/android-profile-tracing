{
 "cells": [
  {
   "cell_type": "code",
   "execution_count": 1,
   "metadata": {},
   "outputs": [],
   "source": [
    "import glob\n",
    "import pickle\n",
    "import tqdm\n",
    "from pathlib import Path\n",
    "\n",
    "import pandas as pd\n",
    "import matplotlib.pyplot as plt\n",
    "import seaborn as sns\n",
    "import numpy as np"
   ]
  },
  {
   "cell_type": "code",
   "execution_count": 2,
   "metadata": {},
   "outputs": [],
   "source": [
    "import collect_data as colda"
   ]
  },
  {
   "cell_type": "code",
   "execution_count": 3,
   "metadata": {},
   "outputs": [],
   "source": [
    "Path(\"plots\").mkdir(parents=True, exist_ok=True)"
   ]
  },
  {
   "cell_type": "markdown",
   "metadata": {},
   "source": [
    "# read data from cache"
   ]
  },
  {
   "cell_type": "code",
   "execution_count": 4,
   "metadata": {},
   "outputs": [],
   "source": [
    "results_profcov = {}\n",
    "for tool in colda.TOOLS:\n",
    "    try:\n",
    "        results_profcov[tool] = colda.read_from_cache_profcov(tool)\n",
    "    except colda.CacheNotFoundError:\n",
    "        pass"
   ]
  },
  {
   "cell_type": "code",
   "execution_count": 5,
   "metadata": {},
   "outputs": [],
   "source": [
    "results_acvtool = {}\n",
    "for tool in colda.TOOLS:\n",
    "    try:\n",
    "        results_acvtool[tool] = colda.read_from_cache_acvtool(tool)\n",
    "    except colda.CacheNotFoundError:\n",
    "        pass"
   ]
  },
  {
   "cell_type": "markdown",
   "metadata": {},
   "source": [
    "# Profile coverage over time - all runs seperate"
   ]
  },
  {
   "cell_type": "code",
   "execution_count": 6,
   "metadata": {},
   "outputs": [],
   "source": [
    "# see https://seaborn.pydata.org/generated/seaborn.lineplot.html#seaborn.lineplot\n",
    "\n",
    "plt.rcParams.update({'font.size': 12})\n",
    "\n",
    "def lineplot_relative(results, title):\n",
    "    ax = sns.lineplot(\n",
    "            x='seconds since first probe hit',\n",
    "            y='profile coverage',\n",
    "            hue='app id',\n",
    "            units='run id',\n",
    "            estimator=None,\n",
    "            data=results,\n",
    "            legend=False)\n",
    "    #ax.set_title(title)\n",
    "    ax.set(xlim=(0,600), ylim=(0,1))\n",
    "    for line in ax.lines:\n",
    "        line.set_alpha(0.6)\n",
    "    ax.set_xlabel(\"Seconds since first probe hit\")\n",
    "    ax.set_ylabel(\"Profile Coverage\")\n",
    "    plt.savefig(f\"plots/profile-coverage_lineplot_relative_{title}.pdf\", bbox_inches='tight')\n",
    "    plt.savefig(f\"plots/profile-coverage_lineplot_relative_{title}.png\", bbox_inches='tight')\n",
    "    #plt.savefig(f\"plots/profile-coverage_lineplot_relative_{title}.png\", bbox_inches='tight')\n",
    "    plt.show()\n",
    "\n",
    "# this takes ~3m to plot"
   ]
  },
  {
   "cell_type": "code",
   "execution_count": 7,
   "metadata": {},
   "outputs": [],
   "source": [
    "if \"time\" in results_profcov:\n",
    "    lineplot_relative(results_profcov['time'], 'baseline')"
   ]
  },
  {
   "cell_type": "code",
   "execution_count": 8,
   "metadata": {},
   "outputs": [],
   "source": [
    "if \"monkey\" in results_profcov:\n",
    "    lineplot_relative(results_profcov['monkey'], 'monkey')"
   ]
  },
  {
   "cell_type": "code",
   "execution_count": 9,
   "metadata": {},
   "outputs": [],
   "source": [
    "if \"droidbot\" in results_profcov:\n",
    "    lineplot_relative(results_profcov['droidbot'], 'droidbot')"
   ]
  },
  {
   "cell_type": "code",
   "execution_count": 10,
   "metadata": {},
   "outputs": [],
   "source": [
    "if \"fastbot\" in results_profcov:\n",
    "    lineplot_relative(results_profcov['fastbot'], 'fastbot')"
   ]
  },
  {
   "cell_type": "markdown",
   "metadata": {},
   "source": [
    "# Profile coverage over time - maximum precomputed"
   ]
  },
  {
   "cell_type": "code",
   "execution_count": 11,
   "metadata": {},
   "outputs": [],
   "source": [
    "def precompute_max(results):\n",
    "    \"\"\"\n",
    "    we precompute the maximum by selecting the run with the highest coverage at any point, not whether it's the last value\n",
    "    (max can mean highest or longest - we use highest)\n",
    "    \"\"\"\n",
    "    res = {}\n",
    "    for tool in colda.TOOLS:\n",
    "        if tool not in results:\n",
    "            print(f\"{tool} not in dataset, skipping\")\n",
    "            continue\n",
    "\n",
    "        # subframe with only relevant columns\n",
    "        sf = results[tool][['app id','run id','profile coverage','seconds since first probe hit']].dropna()\n",
    "        \n",
    "        # find run id for max\n",
    "        idx = sf.groupby('app id')['profile coverage'].idxmax()\n",
    "\n",
    "        max_vals = sf.loc[idx][['app id', 'run id']]\n",
    "\n",
    "        selection = sf[sf.set_index(['app id', 'run id']).index.isin(max_vals.set_index(['app id', 'run id']).index)]\n",
    "\n",
    "        res[tool] = selection[['app id', 'profile coverage', 'seconds since first probe hit']].copy()\n",
    "    return res\n",
    "\n",
    "results_profcov_precomputed_max = precompute_max(results_profcov)"
   ]
  },
  {
   "cell_type": "code",
   "execution_count": 12,
   "metadata": {},
   "outputs": [],
   "source": [
    "def lineplot_max(results, title):\n",
    "    ax = sns.lineplot(\n",
    "            x='seconds since first probe hit',\n",
    "            y='profile coverage',\n",
    "            hue='app id',\n",
    "            estimator=None,\n",
    "            data=results,\n",
    "            legend=False)\n",
    "    #ax.set_title(title)\n",
    "    ax.set(xlim=(0,600), ylim=(0,1))\n",
    "    for line in ax.lines:\n",
    "        line.set_alpha(0.6)\n",
    "    ax.set_xlabel(\"Seconds since first probe hit\")\n",
    "    ax.set_ylabel(\"Profile Coverage\")\n",
    "    plt.savefig(f\"plots/profile-coverage_lineplot_max_{title}.pdf\", bbox_inches='tight')\n",
    "    plt.savefig(f\"plots/profile-coverage_lineplot_max_{title}.png\", bbox_inches='tight')\n",
    "    plt.show()"
   ]
  },
  {
   "cell_type": "code",
   "execution_count": 13,
   "metadata": {},
   "outputs": [],
   "source": [
    "if \"time\" in results_profcov:\n",
    "    lineplot_max(results_profcov_precomputed_max['time'], 'baseline')"
   ]
  },
  {
   "cell_type": "code",
   "execution_count": 14,
   "metadata": {},
   "outputs": [],
   "source": [
    "if \"monkey\" in results_profcov:\n",
    "    lineplot_max(results_profcov_precomputed_max['monkey'], 'monkey')"
   ]
  },
  {
   "cell_type": "code",
   "execution_count": 15,
   "metadata": {},
   "outputs": [],
   "source": [
    "if \"droidbot\" in results_profcov:\n",
    "    lineplot_max(results_profcov_precomputed_max['droidbot'], 'droidbot')"
   ]
  },
  {
   "cell_type": "code",
   "execution_count": 16,
   "metadata": {},
   "outputs": [],
   "source": [
    "if \"fastbot\" in results_profcov:\n",
    "    lineplot_max(results_profcov_precomputed_max['fastbot'], 'fastbot')"
   ]
  },
  {
   "cell_type": "markdown",
   "metadata": {},
   "source": [
    "# comparative plots with acvtool"
   ]
  },
  {
   "cell_type": "code",
   "execution_count": 23,
   "metadata": {},
   "outputs": [],
   "source": [
    "def generate_boxplot_data_profcov():\n",
    "    tools = []\n",
    "    appids = []\n",
    "    mean_max_coverages = []\n",
    "    for tool in colda.TOOLS:\n",
    "        try:\n",
    "            # from max values, create average\n",
    "            _mmc = results_profcov[tool][['app id', 'run id', 'profile coverage']].groupby(['app id', 'run id'], as_index=False).max().groupby('app id').mean()\n",
    "            mean_max_coverages.extend(list(_mmc['profile coverage']))\n",
    "            appids.extend(list(_mmc.index))\n",
    "            tools.extend([tool for _ in range(len(_mmc))])\n",
    "        except KeyError:\n",
    "            # for partial results, skip missing tool results\n",
    "            pass\n",
    "    \n",
    "    return pd.DataFrame({'tool': tools, 'mean max coverage': mean_max_coverages, \"app id\": appids})\n",
    "\n",
    "mean_max_profcov = generate_boxplot_data_profcov()"
   ]
  },
  {
   "cell_type": "code",
   "execution_count": 24,
   "metadata": {},
   "outputs": [],
   "source": [
    "def generate_boxplot_data_acvtool():\n",
    "    tools = []\n",
    "    appids = []\n",
    "    mean_max_coverages = []\n",
    "    for tool in colda.TOOLS:\n",
    "        try:\n",
    "            _mmc = results_acvtool[tool][['app id', 'run id', 'code coverage']].groupby(['app id', 'run id'], as_index=False).max().groupby('app id').mean()\n",
    "            mean_max_coverages.extend(list(_mmc['code coverage']))\n",
    "            appids.extend(list(_mmc.index))\n",
    "            tools.extend([tool for _ in range(len(_mmc))])\n",
    "        except KeyError:\n",
    "            # for partial results, skip missing tool results\n",
    "            pass\n",
    "        \n",
    "    return pd.DataFrame({'tool': tools, 'mean max coverage': mean_max_coverages, \"app id\": appids})\n",
    "\n",
    "mean_max_acvtool = generate_boxplot_data_acvtool()"
   ]
  },
  {
   "cell_type": "code",
   "execution_count": 25,
   "metadata": {},
   "outputs": [],
   "source": [
    "def generate_boxplot_data_profcov_acvtool_apps_only():\n",
    "    acvtool_apps_only = list(mean_max_acvtool['app id'].unique())\n",
    "    return mean_max_profcov[mean_max_profcov['app id'].isin(acvtool_apps_only)]\n",
    "\n",
    "mean_max_profcov_acvtool_apps_only = generate_boxplot_data_profcov_acvtool_apps_only()"
   ]
  },
  {
   "cell_type": "code",
   "execution_count": 26,
   "metadata": {},
   "outputs": [],
   "source": [
    "def draw_stripplot(data, name, ylabel=\"Profile Coverage\"):\n",
    "    # see https://seaborn.pydata.org/examples/jitter_stripplot.html\n",
    "\n",
    "    #sns.set_theme(style=\"whitegrid\")\n",
    "    #iris = sns.load_dataset(\"iris\")\n",
    "\n",
    "    # \"Melt\" the dataset to \"long-form\" or \"tidy\" representation\n",
    "    #iris = iris.melt(id_vars=\"species\", var_name=\"measurement\")\n",
    "\n",
    "    # Initialize the figure\n",
    "    f, ax = plt.subplots()\n",
    "    #sns.despine(bottom=True, left=True)\n",
    "\n",
    "    # Show each observation with a scatterplot\n",
    "    sns.stripplot(\n",
    "        data=data, x=\"tool\", y=\"mean max coverage\", \n",
    "        #hue=\"tool\",\n",
    "        color=\"#4477AA\",\n",
    "        dodge=True, alpha=.65, zorder=1, legend=False,\n",
    "        jitter=0.25,\n",
    "    )\n",
    "    ax.set(ylim=(0,1))\n",
    "\n",
    "    # Show the conditional means, aligning each pointplot in the\n",
    "    # center of the strips by adjusting the width allotted to each\n",
    "    # category (.8 by default) by the number of hue levels\n",
    "    sns.pointplot(\n",
    "        data=data, x=\"tool\", y=\"mean max coverage\", \n",
    "        color=\"#AA3377\",\n",
    "        #hue=\"tool\",\n",
    "        #dodge=.3 - .3 / 3,\n",
    "        #palette=\"dark\", \n",
    "        #errorbar=None,\n",
    "        errorbar=(\"pi\", 50),\n",
    "        markers=\"_\", markersize=64, linestyle=\"none\",\n",
    "    )\n",
    "\n",
    "    # Improve the legend\n",
    "    #sns.move_legend(\n",
    "    #    ax, loc=\"lower right\", ncol=3, frameon=True, columnspacing=1, handletextpad=0,\n",
    "    #)\n",
    "    ax.set_xticklabels([\"No-Interaction\",\"Monkey\", \"DroidBot\", \"Fastbot2\"])\n",
    "    ax.set_ylabel(ylabel)\n",
    "    ax.set_xlabel(\"\")\n",
    "\n",
    "    plt.savefig(f\"plots/stripplot_{name}.pdf\", bbox_inches='tight')\n",
    "    plt.savefig(f\"plots/stripplot_{name}.png\", bbox_inches='tight')\n",
    "    plt.show()"
   ]
  },
  {
   "cell_type": "code",
   "execution_count": 27,
   "metadata": {},
   "outputs": [],
   "source": [
    "draw_stripplot(mean_max_profcov, \"profile_coverage\")"
   ]
  },
  {
   "cell_type": "code",
   "execution_count": 28,
   "metadata": {},
   "outputs": [],
   "source": [
    "draw_stripplot(mean_max_acvtool, \"code_coverage_acvtool\", ylabel=\"Code Coverage\")"
   ]
  },
  {
   "cell_type": "code",
   "execution_count": 29,
   "metadata": {},
   "outputs": [],
   "source": [
    "draw_stripplot(mean_max_profcov_acvtool_apps_only, \"profile_coverage_acvtool_apps_only\")"
   ]
  },
  {
   "cell_type": "code",
   "execution_count": 30,
   "metadata": {},
   "outputs": [],
   "source": [
    "mean_max_profcov.describe()"
   ]
  },
  {
   "cell_type": "code",
   "execution_count": 34,
   "metadata": {},
   "outputs": [],
   "source": [
    "mean_max_profcov[['tool','mean max coverage']].groupby('tool').describe()"
   ]
  },
  {
   "cell_type": "code",
   "execution_count": 35,
   "metadata": {},
   "outputs": [],
   "source": [
    "mean_max_acvtool[['tool','mean max coverage']].groupby('tool').describe()"
   ]
  },
  {
   "cell_type": "code",
   "execution_count": null,
   "metadata": {},
   "outputs": [],
   "source": []
  }
 ],
 "metadata": {
  "kernelspec": {
   "display_name": "aot-profiles",
   "language": "python",
   "name": "python3"
  },
  "language_info": {
   "codemirror_mode": {
    "name": "ipython",
    "version": 3
   },
   "file_extension": ".py",
   "mimetype": "text/x-python",
   "name": "python",
   "nbconvert_exporter": "python",
   "pygments_lexer": "ipython3",
   "version": "3.11.5"
  }
 },
 "nbformat": 4,
 "nbformat_minor": 2
}
