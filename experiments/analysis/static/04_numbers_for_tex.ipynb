{
 "cells": [
  {
   "cell_type": "markdown",
   "metadata": {},
   "source": [
    "# prepare longitudinal data\n",
    "\n",
    "this takes a while so we run it through the script as\n",
    "\n",
    "`./analysishelper.py --do-all-longitudinal 6`\n",
    "\n",
    "can also run i here if you want\n"
   ]
  },
  {
   "cell_type": "code",
   "execution_count": 1,
   "metadata": {},
   "outputs": [],
   "source": [
    "import json\n",
    "import re\n",
    "from pathlib import Path\n",
    "import tqdm\n",
    "import pandas as pd\n",
    "import matplotlib.pyplot as plt\n",
    "import seaborn as sns\n",
    "import numpy as np\n",
    "import sh\n",
    "import glob\n",
    "from multiprocessing import Pool\n",
    "\n",
    "\n",
    "import analysishelper as ah"
   ]
  },
  {
   "cell_type": "code",
   "execution_count": null,
   "metadata": {},
   "outputs": [],
   "source": []
  },
  {
   "cell_type": "markdown",
   "metadata": {},
   "source": [
    "next we need numbers\n",
    "\n",
    "```latex\n",
    "\\newcommand{\\numAndroidScrapedBaseAPK}{8476} % total number of scraped base apks\n",
    "\\newcommand{\\numAndroidScrapedSplitAPK}{15887} % total number of scraped split apks\n",
    "\\newcommand{\\numAndroidScrapedSplitWithDexUnique}{14} % number of unique app ids whose split files had dex code at some point\n",
    "\\newcommand{\\numAndroidScrapedBaseDM}{8476} % total number of scraped baseDM files ( no split dm files)\n",
    "￼\n",
    "\\newcommand{\\numAndroidScrapedBaseline}{5467} % total number of baseline profiles\n",
    "\\newcommand{\\numAndroidScrapedCloud}{8470} % total number of cloud profiles\n",
    "￼\n",
    "% apps for fig 3 / Distribution of functions in baseline and cloud profiles\n",
    "￼\n",
    "\\newcommand{\\numComparisonScraped}{383} % apps we downloaded on 2024-04-01\n",
    "￼\n",
    "% Dynamic Testing\n",
    "￼\n",
    "\\newcommand{\\numDynScraped}{383} % apps we downloaded on 2024-04-01\n",
    "\\newcommand{\\numDynSelected}{77} % of those, apps that don't crash droidbot\n",
    "\\newcommand{\\numDynSelectedACV}{24} % apps that don't crash acvtool\n",
    "￼\n",
    "```"
   ]
  },
  {
   "cell_type": "code",
   "execution_count": 2,
   "metadata": {},
   "outputs": [
    {
     "name": "stderr",
     "output_type": "stream",
     "text": [
      "100%|██████████| 43059/43059 [05:58<00:00, 120.22it/s]"
     ]
    },
    {
     "name": "stdout",
     "output_type": "stream",
     "text": [
      "\\newcommand{\\numAndroidScrapedBaseAPK}{43056}\n",
      "\\newcommand{\\numAndroidScrapedSplitAPK}{81509}\n",
      "\\newcommand{\\numAndroidScrapedBaseDM}{43056}\n"
     ]
    },
    {
     "name": "stderr",
     "output_type": "stream",
     "text": [
      "\n"
     ]
    }
   ],
   "source": [
    "numAndroidScrapedBaseAPK = 0 # total number of scraped base apks\n",
    "numAndroidScrapedSplitAPK = 0 # total number of scraped split apks\n",
    "numAndroidScrapedBaseDM = 0 # total number of scraped baseDM files ( no split dm files)\n",
    "\n",
    "def takesawhile():\n",
    "    numAndroidScrapedBaseAPK = 0 # total number of scraped base apks\n",
    "    numAndroidScrapedSplitAPK = 0 # total number of scraped split apks\n",
    "    numAndroidScrapedBaseDM = 0 # total number of scraped baseDM files ( no split \n",
    "    for apkdir in tqdm.tqdm([\n",
    "            adir \n",
    "            for daily_dir in ah.daily_dirs()\n",
    "            for adir in ah.apkdirs_from_daily_dir(daily_dir)\n",
    "        ]):\n",
    "        basepath = ah.get_base_apkpath(apkdir)\n",
    "        if basepath.exists():\n",
    "            numAndroidScrapedBaseAPK+=1\n",
    "        dmpath = ah.get_base_dmpath(apkdir)\n",
    "        if dmpath.exists():\n",
    "            numAndroidScrapedBaseDM+=1\n",
    "        splitapks = ah.get_splitapks(apkdir)\n",
    "        numAndroidScrapedSplitAPK+=len(splitapks)\n",
    "    return numAndroidScrapedBaseAPK, numAndroidScrapedSplitAPK, numAndroidScrapedBaseDM\n",
    "\n",
    "numAndroidScrapedBaseAPK, numAndroidScrapedSplitAPK, numAndroidScrapedBaseDM = takesawhile()\n",
    "    \n",
    "\n",
    "print(f\"\\\\newcommand{{\\\\numAndroidScrapedBaseAPK}}{{{numAndroidScrapedBaseAPK}}}\")\n",
    "print(f\"\\\\newcommand{{\\\\numAndroidScrapedSplitAPK}}{{{numAndroidScrapedSplitAPK}}}\")\n",
    "print(f\"\\\\newcommand{{\\\\numAndroidScrapedBaseDM}}{{{numAndroidScrapedBaseDM}}}\")\n"
   ]
  },
  {
   "cell_type": "markdown",
   "metadata": {},
   "source": [
    "```txt\n",
    "100%|██████████| 43059/43059 [38:03<00:00, 18.86it/s]\n",
    "\\newcommand{\\numAndroidScrapedBaseAPK}{43056}\n",
    "\\newcommand{\\numAndroidScrapedSplitAPK}{81509}\n",
    "\\newcommand{\\numAndroidScrapedBaseDM}{43056}\n",
    "```"
   ]
  },
  {
   "cell_type": "code",
   "execution_count": 3,
   "metadata": {},
   "outputs": [
    {
     "name": "stdout",
     "output_type": "stream",
     "text": [
      "\\newcommand{\\numAndroidScrapedBaseline}{36997}\n"
     ]
    }
   ],
   "source": [
    "numAndroidScrapedBaseline = sh.wc('-l', _in=sh.find(str(ah.BASELINE_CACHE), '-type', 'f')).strip()\n",
    "\n",
    "print(f\"\\\\newcommand{{\\\\numAndroidScrapedBaseline}}{{{numAndroidScrapedBaseline}}}\")"
   ]
  },
  {
   "cell_type": "code",
   "execution_count": 4,
   "metadata": {},
   "outputs": [
    {
     "name": "stdout",
     "output_type": "stream",
     "text": [
      "\\newcommand{\\numAndroidScrapedCloud}{43009}\n"
     ]
    }
   ],
   "source": [
    "numAndroidScrapedCloud = sh.wc('-l', _in=sh.find(str(ah.CLOUDPROF_CACHE), '-type', 'f')).strip()\n",
    "\n",
    "print(f\"\\\\newcommand{{\\\\numAndroidScrapedCloud}}{{{numAndroidScrapedCloud}}}\")"
   ]
  },
  {
   "cell_type": "code",
   "execution_count": null,
   "metadata": {},
   "outputs": [],
   "source": []
  }
 ],
 "metadata": {
  "kernelspec": {
   "display_name": "aot-profiles",
   "language": "python",
   "name": "python3"
  },
  "language_info": {
   "codemirror_mode": {
    "name": "ipython",
    "version": 3
   },
   "file_extension": ".py",
   "mimetype": "text/x-python",
   "name": "python",
   "nbconvert_exporter": "python",
   "pygments_lexer": "ipython3",
   "version": "3.11.5"
  }
 },
 "nbformat": 4,
 "nbformat_minor": 2
}
