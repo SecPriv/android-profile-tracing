{
 "cells": [
  {
   "cell_type": "markdown",
   "metadata": {},
   "source": [
    "# prepare data\n",
    "\n",
    "this notebook:\n",
    "\n",
    "- extracts profiles from apk/dm files \n",
    "- runs profdump on the profiles\n",
    "- transforms the profiles to json files we can use\n",
    "\n",
    "and also:\n",
    "- runs some metadata analysis on apks to grab i.a. the total number of dex methods and activities\n",
    "\n",
    "while doing all of this cached based on file contents, so we don't analyze the same file twice"
   ]
  },
  {
   "cell_type": "code",
   "execution_count": 1,
   "metadata": {},
   "outputs": [],
   "source": [
    "import json\n",
    "import re\n",
    "from pathlib import Path\n",
    "import tqdm\n",
    "import pandas as pd\n",
    "import matplotlib.pyplot as plt\n",
    "import seaborn as sns\n",
    "import numpy as np\n",
    "import sh\n",
    "import glob\n",
    "from multiprocessing import Pool\n",
    "\n",
    "\n",
    "import analysishelper as ah\n",
    "import cachedefs as cd"
   ]
  },
  {
   "cell_type": "code",
   "execution_count": null,
   "metadata": {},
   "outputs": [],
   "source": []
  },
  {
   "cell_type": "code",
   "execution_count": 2,
   "metadata": {},
   "outputs": [
    {
     "name": "stderr",
     "output_type": "stream",
     "text": [
      " 17%|█▋        | 143/844 [00:02<00:14, 48.36it/s]"
     ]
    },
    {
     "name": "stdout",
     "output_type": "stream",
     "text": [
      "WARNING: failed to apkanalyze base.apk for com.criticalforceentertainment.criticalops\n"
     ]
    },
    {
     "name": "stderr",
     "output_type": "stream",
     "text": [
      " 45%|████▍     | 379/844 [00:11<00:23, 19.67it/s]"
     ]
    },
    {
     "name": "stdout",
     "output_type": "stream",
     "text": [
      "error analyzing com.turborocketgames.wildcraft\n"
     ]
    },
    {
     "name": "stderr",
     "output_type": "stream",
     "text": [
      " 57%|█████▋    | 485/844 [00:16<00:22, 15.79it/s]"
     ]
    },
    {
     "name": "stdout",
     "output_type": "stream",
     "text": [
      "error analyzing com.gismart.realpianofree\n"
     ]
    },
    {
     "name": "stderr",
     "output_type": "stream",
     "text": [
      " 60%|█████▉    | 504/844 [00:18<00:33, 10.26it/s]"
     ]
    },
    {
     "name": "stdout",
     "output_type": "stream",
     "text": [
      "error analyzing com.arcsys.tictactoe\n"
     ]
    },
    {
     "name": "stderr",
     "output_type": "stream",
     "text": [
      " 68%|██████▊   | 572/844 [00:25<00:34,  7.91it/s]"
     ]
    },
    {
     "name": "stdout",
     "output_type": "stream",
     "text": [
      "error analyzing in.mohalla.video\n"
     ]
    },
    {
     "name": "stderr",
     "output_type": "stream",
     "text": [
      " 73%|███████▎  | 619/844 [00:38<00:33,  6.71it/s]"
     ]
    },
    {
     "name": "stdout",
     "output_type": "stream",
     "text": [
      "error analyzing in.sweatco.app\n"
     ]
    },
    {
     "name": "stderr",
     "output_type": "stream",
     "text": [
      " 75%|███████▌  | 635/844 [00:39<00:16, 12.72it/s]"
     ]
    },
    {
     "name": "stdout",
     "output_type": "stream",
     "text": [
      "error analyzing com.gismart.guitar\n"
     ]
    },
    {
     "name": "stderr",
     "output_type": "stream",
     "text": [
      " 83%|████████▎ | 703/844 [00:42<00:06, 22.43it/s]"
     ]
    },
    {
     "name": "stdout",
     "output_type": "stream",
     "text": [
      "error analyzing in.swiggy.android\n"
     ]
    },
    {
     "name": "stderr",
     "output_type": "stream",
     "text": [
      " 85%|████████▍ | 714/844 [00:43<00:12, 10.72it/s]"
     ]
    },
    {
     "name": "stdout",
     "output_type": "stream",
     "text": [
      "error analyzing com.sbi.lotusintouch\n"
     ]
    },
    {
     "name": "stderr",
     "output_type": "stream",
     "text": [
      " 88%|████████▊ | 742/844 [00:53<00:12,  8.44it/s]"
     ]
    },
    {
     "name": "stdout",
     "output_type": "stream",
     "text": [
      "error analyzing ru.rostel\n"
     ]
    },
    {
     "name": "stderr",
     "output_type": "stream",
     "text": [
      " 91%|█████████ | 764/844 [01:03<00:10,  7.80it/s]"
     ]
    },
    {
     "name": "stdout",
     "output_type": "stream",
     "text": [
      "error analyzing com.audible.application\n"
     ]
    },
    {
     "name": "stderr",
     "output_type": "stream",
     "text": [
      " 99%|█████████▉| 838/844 [01:07<00:00, 24.11it/s]"
     ]
    },
    {
     "name": "stdout",
     "output_type": "stream",
     "text": [
      "error analyzing in.mohalla.sharechat\n"
     ]
    },
    {
     "name": "stderr",
     "output_type": "stream",
     "text": [
      " 99%|█████████▉| 838/844 [01:19<00:00, 24.11it/s]"
     ]
    },
    {
     "name": "stdout",
     "output_type": "stream",
     "text": [
      "error analyzing net.mbc.shahid\n"
     ]
    },
    {
     "name": "stderr",
     "output_type": "stream",
     "text": [
      "100%|█████████▉| 840/844 [01:27<00:07,  1.99s/it]"
     ]
    },
    {
     "name": "stdout",
     "output_type": "stream",
     "text": [
      "error analyzing com.miui.player\n"
     ]
    },
    {
     "name": "stderr",
     "output_type": "stream",
     "text": [
      "100%|█████████▉| 841/844 [02:07<00:20,  6.74s/it]"
     ]
    },
    {
     "name": "stdout",
     "output_type": "stream",
     "text": [
      "error analyzing com.bitsmedia.android.muslimpro\n"
     ]
    },
    {
     "name": "stderr",
     "output_type": "stream",
     "text": [
      "100%|█████████▉| 842/844 [02:55<00:26, 13.13s/it]"
     ]
    },
    {
     "name": "stdout",
     "output_type": "stream",
     "text": [
      "error analyzing com.paypal.android.p2pmobile\n"
     ]
    },
    {
     "name": "stderr",
     "output_type": "stream",
     "text": [
      "100%|█████████▉| 843/844 [16:35<02:37, 157.65s/it]"
     ]
    },
    {
     "name": "stdout",
     "output_type": "stream",
     "text": [
      "error analyzing com.picpay\n"
     ]
    },
    {
     "name": "stderr",
     "output_type": "stream",
     "text": [
      "100%|██████████| 844/844 [48:47<00:00,  3.47s/it] \n"
     ]
    }
   ],
   "source": [
    "# first test with the sample day apps\n",
    "pool = Pool(processes=8)\n",
    "for _ in tqdm.tqdm(pool.imap_unordered(ah.cached_apk_to_metadata, ah.sample_day_dirs(False)), total=len(ah.sample_day_dirs(False))):\n",
    "    pass"
   ]
  },
  {
   "cell_type": "code",
   "execution_count": 3,
   "metadata": {},
   "outputs": [
    {
     "name": "stderr",
     "output_type": "stream",
     "text": [
      "100%|██████████| 844/844 [00:00<00:00, 51234.44it/s]\n"
     ]
    }
   ],
   "source": [
    "# extract profiles \n",
    "\n",
    "pool = Pool(processes=1)\n",
    "#for i in tqdm.tqdm(pool.imap_unordered(\n",
    "#            ah.cached_extract_baseline_and_cloud_prof,\n",
    "#            ah.sample_day_dirs(False)\n",
    "#        ), total=len(ah.sample_day_dirs(False))):\n",
    "#    pass\n",
    "\n",
    "for i in tqdm.tqdm(ah.sample_day_dirs(False)):\n",
    "    ah.cached_extract_baseline_and_cloud_prof(i)"
   ]
  },
  {
   "cell_type": "code",
   "execution_count": 4,
   "metadata": {},
   "outputs": [
    {
     "name": "stderr",
     "output_type": "stream",
     "text": [
      "100%|██████████| 844/844 [00:15<00:00, 54.85it/s]\n"
     ]
    }
   ],
   "source": [
    "# prepare profiles runs profman to generate profdump files\n",
    "def do_prepare_both_profiles(apkdir):\n",
    "    ah.cached_get_profdump_path(apkdir, cloud=False)\n",
    "    ah.cached_get_profdump_path(apkdir, cloud=True)\n",
    "\n",
    "for i in tqdm.tqdm(ah.sample_day_dirs(False)):\n",
    "    do_prepare_both_profiles(i)"
   ]
  },
  {
   "cell_type": "code",
   "execution_count": null,
   "metadata": {},
   "outputs": [
    {
     "name": "stderr",
     "output_type": "stream",
     "text": [
      "100%|██████████| 844/844 [00:44<00:00, 18.94it/s]\n"
     ]
    }
   ],
   "source": [
    "# now we parse the profdump and save the result as json for easy import\n",
    "for apkdir in tqdm.tqdm(ah.sample_day_dirs()):\n",
    "    ah.cached_profile_txt_to_json(apkdir, cloud=False)\n",
    "    ah.cached_profile_txt_to_json(apkdir, cloud=True)"
   ]
  },
  {
   "cell_type": "markdown",
   "metadata": {},
   "source": [
    "we have data, now we transform it into something usable"
   ]
  },
  {
   "cell_type": "code",
   "execution_count": 2,
   "metadata": {},
   "outputs": [
    {
     "name": "stdout",
     "output_type": "stream",
     "text": [
      "found cache, reading that\n"
     ]
    }
   ],
   "source": [
    "def get_sample_profiles_json():\n",
    "\n",
    "    if cd.CACHE_SAMPLE_PROFILES_JSON_PATH.exists():\n",
    "        print(\"found cache, reading that\")\n",
    "        with open(cd.CACHE_SAMPLE_PROFILES_JSON_PATH, \"r\") as f:\n",
    "            return json.load(f)\n",
    "\n",
    "    sample_profiles_json = {}\n",
    "\n",
    "    for apkdir in tqdm.tqdm(ah.sample_day_dirs()):\n",
    "        _, apkid = ah.get_date_apkid(apkdir)\n",
    "        basejson = ah.cached_profile_txt_to_json(apkdir, cloud=False)\n",
    "        clodjson = ah.cached_profile_txt_to_json(apkdir, cloud=True)\n",
    "\n",
    "        sample_profiles_json[apkid] = {}\n",
    "        \n",
    "        sample_profiles_json[apkid][\"baseline\"] = basejson if basejson else {}\n",
    "        sample_profiles_json[apkid][\"cloud\"] = clodjson if clodjson else {}\n",
    "    \n",
    "    with open(cd.CACHE_SAMPLE_PROFILES_JSON_PATH, \"w\") as f:\n",
    "        json.dump(sample_profiles_json, f)\n",
    "    \n",
    "    return sample_profiles_json\n",
    "\n",
    "sample_profiles_json = get_sample_profiles_json()\n",
    "\n"
   ]
  },
  {
   "cell_type": "code",
   "execution_count": 4,
   "metadata": {},
   "outputs": [
    {
     "data": {
      "text/plain": [
       "360"
      ]
     },
     "execution_count": 4,
     "metadata": {},
     "output_type": "execute_result"
    }
   ],
   "source": [
    "len(sample_profiles_json['com.bitstrips.imoji']['baseline']['1']['hot'])\n",
    "\n",
    "#[appid: str][\"baseline\" or \"cloud\": str][dex_number: str][\"hot\" or \"startup\" or \"post\" or \"classes\": str][index into list of functions/classes: int]"
   ]
  },
  {
   "cell_type": "markdown",
   "metadata": {},
   "source": [
    "\n",
    "- transformation, transformation now begins!\n",
    "- we want a pandas frame with the following:\n",
    "- 'id', shared_hot, shared_startup, shared_post,\n",
    "   - base_only_hot, base_only_startup, base_only_post,\n",
    "   - cloud_only_hot, cloud_only_startup, cloud_only_post\n",
    "\n",
    "- because methods are indexed by the dex file, we use that dex number as offset\n",
    "- (a dex file can have at most 65,536 methods), so we calculate a list of:\n",
    "- 100,000*dex_number+method_number for each of the hot/startup/post methods\n",
    "- we drop the classes for this analysis\n",
    "- why numbers? to save space and make our live easier with numpy"
   ]
  },
  {
   "cell_type": "code",
   "execution_count": null,
   "metadata": {},
   "outputs": [],
   "source": []
  },
  {
   "cell_type": "code",
   "execution_count": 8,
   "metadata": {},
   "outputs": [],
   "source": [
    "\n",
    "def profdata_to_set(p):\n",
    "    r = {'hot': set(), 'startup': set(), 'post': set()}\n",
    "    _h, _s, _p = (0, 0, 0)\n",
    "    for didx, v in p.items():\n",
    "        intdidx = int(didx)\n",
    "        if 'hot' in v.keys():\n",
    "            for midx in v['hot']:\n",
    "                r['hot'].add(100000*intdidx + int(midx)) # hack to differentiate method ids in dexes, since max ids per dex are ~65k\n",
    "                _h+=1\n",
    "        if 'startup' in v.keys():\n",
    "            for midx in v['startup']:\n",
    "                r['startup'].add(100000*intdidx + int(midx))\n",
    "                _s+=1\n",
    "        if 'post' in v.keys():\n",
    "            for midx in v['post']:\n",
    "                r['post'].add(100000*intdidx + int(midx))\n",
    "                _p+=1\n",
    "    # 'any' as a set of any of the above\n",
    "    r['any'] = r['hot'].union(r['startup']).union(r['post'])\n",
    "    assert(len(r['hot']) == _h)\n",
    "    assert(len(r['startup']) == _s)\n",
    "    assert(len(r['post']) == _p)\n",
    "    assert(len(r['any']) <= _h+_s+_p)\n",
    "    return r\n",
    "\n",
    "\n",
    "def transform_data_to_sets(data):\n",
    "    r = {}\n",
    "    for app, v in tqdm.tqdm(data.items()):\n",
    "        baseline = {'hot': set(), 'startup': set(), 'post': set(), 'any': set()}\n",
    "        primary = {'hot': set(), 'startup': set(), 'post': set(), 'any': set()}\n",
    "        if 'baseline' in v.keys():\n",
    "            baseline = profdata_to_set(v['baseline'])\n",
    "\n",
    "        if 'cloud' in v.keys():\n",
    "            primary = profdata_to_set(v['cloud'])\n",
    "        r[app] = {'baseline': baseline, 'cloud': primary}\n",
    "    return r\n",
    "\n",
    "def get_intersection_and_exclusive_baseline_cloud(v, mtype):\n",
    "    bp = v['baseline'][mtype]\n",
    "    cp = v['cloud'][mtype]\n",
    "    ints = len(bp.intersection(cp)) # intersection\n",
    "    ob = len(bp.difference(cp)) # only base\n",
    "    oc = len(cp.difference(bp)) # only cloud\n",
    "    return ints, ob, oc\n",
    "\n",
    "def sets_to_instersections_exclusives(udata):\n",
    "    ids = []\n",
    "    r = []\n",
    "    for appid, v in tqdm.tqdm(udata.items()):\n",
    "        ids.append(appid)\n",
    "        vals = {}\n",
    "        for mtype in ['hot', 'startup', 'post', 'any']:\n",
    "            ints, bo, co = get_intersection_and_exclusive_baseline_cloud(v, mtype)\n",
    "            vals[f'shared_{mtype}'] = ints\n",
    "            vals[f'baseline_only_{mtype}'] = bo\n",
    "            vals[f'cloud_only_{mtype}'] = co\n",
    "        r.append(vals)\n",
    "    return ids, r"
   ]
  },
  {
   "cell_type": "code",
   "execution_count": 9,
   "metadata": {},
   "outputs": [
    {
     "name": "stdout",
     "output_type": "stream",
     "text": [
      "computing plotable\n"
     ]
    },
    {
     "name": "stderr",
     "output_type": "stream",
     "text": [
      "100%|██████████| 844/844 [00:12<00:00, 69.73it/s] \n",
      "100%|██████████| 844/844 [00:03<00:00, 278.57it/s]\n"
     ]
    }
   ],
   "source": [
    "def create_plotable_dataframe_from_json(day_json):\n",
    "    unified_data = transform_data_to_sets(day_json)\n",
    "\n",
    "    appids, plotable_data = sets_to_instersections_exclusives(unified_data)\n",
    "\n",
    "    return pd.DataFrame(plotable_data, index=appids)\n",
    "\n",
    "if not cd.CACHE_SAMPLE_PROFILES_PLOTABLE.exists():\n",
    "    print(\"computing plotable\")\n",
    "    df_plotable = create_plotable_dataframe_from_json(sample_profiles_json)\n",
    "    df_plotable.to_pickle(cd.CACHE_SAMPLE_PROFILES_PLOTABLE)\n",
    "else:\n",
    "    print(\"reading plotable\")\n",
    "    df_plotable = pd.read_pickle(cd.CACHE_SAMPLE_PROFILES_PLOTABLE)"
   ]
  },
  {
   "cell_type": "code",
   "execution_count": 10,
   "metadata": {},
   "outputs": [
    {
     "data": {
      "image/png": "[encoded data removed]",
      "text/plain": [
       "<Figure size 2400x1800 with 1 Axes>"
      ]
     },
     "metadata": {},
     "output_type": "display_data"
    }
   ],
   "source": [
    "def bad_plot(df,name=\"bad_plot.pdf\"):\n",
    "    cols = ['shared_hot', 'shared_startup', 'shared_post',\n",
    "                   'baseline_only_hot', 'baseline_only_startup', 'baseline_only_post', \n",
    "                   'cloud_only_hot', 'cloud_only_startup', 'cloud_only_post']\n",
    "    df = df[cols]\n",
    "    df = df.sort_values(by=cols, ascending=False)\n",
    "    ax = df.plot.bar(stacked=True, logy=True, figsize=(24,18), color=[\"#6E01FF\", \"#984EFF\", \"#B07AFF\", \"#FF00D6\", \"#FF4FE8\", \"#FF7AF2\", \"#1B00FF\", \"#5F4FFF\", \"#847AFF\"])\n",
    "\n",
    "    ax.set_xticklabels([])\n",
    "\n",
    "    ax.set_xlabel(\"apps\")\n",
    "    ax.set_ylabel(\"number of functions\")\n",
    "\n",
    "    fig = ax.get_figure()\n",
    "    fig.savefig(name)\n",
    "\n",
    "bad_plot(df_plotable)"
   ]
  },
  {
   "cell_type": "code",
   "execution_count": 11,
   "metadata": {},
   "outputs": [
    {
     "data": {
      "text/html": [
       "<div>\n",
       "<style scoped>\n",
       "    .dataframe tbody tr th:only-of-type {\n",
       "        vertical-align: middle;\n",
       "    }\n",
       "\n",
       "    .dataframe tbody tr th {\n",
       "        vertical-align: top;\n",
       "    }\n",
       "\n",
       "    .dataframe thead th {\n",
       "        text-align: right;\n",
       "    }\n",
       "</style>\n",
       "<table border=\"1\" class=\"dataframe\">\n",
       "  <thead>\n",
       "    <tr style=\"text-align: right;\">\n",
       "      <th></th>\n",
       "      <th>shared_any</th>\n",
       "      <th>baseline_only_any</th>\n",
       "      <th>cloud_only_any</th>\n",
       "    </tr>\n",
       "  </thead>\n",
       "  <tbody>\n",
       "    <tr>\n",
       "      <th>com.ForgeGames.SpecialForcesGroup2</th>\n",
       "      <td>0</td>\n",
       "      <td>0</td>\n",
       "      <td>5924</td>\n",
       "    </tr>\n",
       "    <tr>\n",
       "      <th>com.bitstrips.imoji</th>\n",
       "      <td>413</td>\n",
       "      <td>13</td>\n",
       "      <td>5979</td>\n",
       "    </tr>\n",
       "    <tr>\n",
       "      <th>com.callapp.contacts</th>\n",
       "      <td>7824</td>\n",
       "      <td>1753</td>\n",
       "      <td>32176</td>\n",
       "    </tr>\n",
       "    <tr>\n",
       "      <th>com.playgendary.sportmasters</th>\n",
       "      <td>42</td>\n",
       "      <td>1336</td>\n",
       "      <td>37573</td>\n",
       "    </tr>\n",
       "    <tr>\n",
       "      <th>cn.wps.moffice_eng</th>\n",
       "      <td>13798</td>\n",
       "      <td>2120</td>\n",
       "      <td>11853</td>\n",
       "    </tr>\n",
       "    <tr>\n",
       "      <th>...</th>\n",
       "      <td>...</td>\n",
       "      <td>...</td>\n",
       "      <td>...</td>\n",
       "    </tr>\n",
       "    <tr>\n",
       "      <th>com.threed.bowling</th>\n",
       "      <td>0</td>\n",
       "      <td>0</td>\n",
       "      <td>1977</td>\n",
       "    </tr>\n",
       "    <tr>\n",
       "      <th>com.google.android.deskclock</th>\n",
       "      <td>468</td>\n",
       "      <td>43</td>\n",
       "      <td>6470</td>\n",
       "    </tr>\n",
       "    <tr>\n",
       "      <th>com.fundevs.app.mediaconverter</th>\n",
       "      <td>0</td>\n",
       "      <td>0</td>\n",
       "      <td>8566</td>\n",
       "    </tr>\n",
       "    <tr>\n",
       "      <th>com.springwalk.mediaconverter</th>\n",
       "      <td>587</td>\n",
       "      <td>73</td>\n",
       "      <td>11220</td>\n",
       "    </tr>\n",
       "    <tr>\n",
       "      <th>com.accuweather.android</th>\n",
       "      <td>17477</td>\n",
       "      <td>2872</td>\n",
       "      <td>1345</td>\n",
       "    </tr>\n",
       "  </tbody>\n",
       "</table>\n",
       "<p>844 rows × 3 columns</p>\n",
       "</div>"
      ],
      "text/plain": [
       "                                    shared_any  baseline_only_any  \\\n",
       "com.ForgeGames.SpecialForcesGroup2           0                  0   \n",
       "com.bitstrips.imoji                        413                 13   \n",
       "com.callapp.contacts                      7824               1753   \n",
       "com.playgendary.sportmasters                42               1336   \n",
       "cn.wps.moffice_eng                       13798               2120   \n",
       "...                                        ...                ...   \n",
       "com.threed.bowling                           0                  0   \n",
       "com.google.android.deskclock               468                 43   \n",
       "com.fundevs.app.mediaconverter               0                  0   \n",
       "com.springwalk.mediaconverter              587                 73   \n",
       "com.accuweather.android                  17477               2872   \n",
       "\n",
       "                                    cloud_only_any  \n",
       "com.ForgeGames.SpecialForcesGroup2            5924  \n",
       "com.bitstrips.imoji                           5979  \n",
       "com.callapp.contacts                         32176  \n",
       "com.playgendary.sportmasters                 37573  \n",
       "cn.wps.moffice_eng                           11853  \n",
       "...                                            ...  \n",
       "com.threed.bowling                            1977  \n",
       "com.google.android.deskclock                  6470  \n",
       "com.fundevs.app.mediaconverter                8566  \n",
       "com.springwalk.mediaconverter                11220  \n",
       "com.accuweather.android                       1345  \n",
       "\n",
       "[844 rows x 3 columns]"
      ]
     },
     "execution_count": 11,
     "metadata": {},
     "output_type": "execute_result"
    }
   ],
   "source": [
    "any_methods = df_plotable[[\"shared_any\", \"baseline_only_any\", \"cloud_only_any\"]]\n",
    "any_methods"
   ]
  },
  {
   "cell_type": "code",
   "execution_count": 12,
   "metadata": {},
   "outputs": [
    {
     "name": "stdout",
     "output_type": "stream",
     "text": [
      "apps with no methods in the cloud profile:    110\n",
      "apps with no methods in the baseline profile: 128\n"
     ]
    }
   ],
   "source": [
    "print(f\"apps with no methods in the cloud profile:    {len(any_methods[any_methods['cloud_only_any'] == 0])}\")\n",
    "print(f\"apps with no methods in the baseline profile: {len(any_methods[any_methods['baseline_only_any'] == 0])}\")"
   ]
  },
  {
   "cell_type": "markdown",
   "metadata": {},
   "source": [
    "for the top 400 this was:\n",
    "\n",
    "- apps with no methods in the cloud profile:    27\n",
    "- apps with no methods in the baseline profile: 141"
   ]
  },
  {
   "cell_type": "code",
   "execution_count": null,
   "metadata": {},
   "outputs": [],
   "source": []
  }
 ],
 "metadata": {
  "kernelspec": {
   "display_name": "aot-profiles",
   "language": "python",
   "name": "python3"
  },
  "language_info": {
   "codemirror_mode": {
    "name": "ipython",
    "version": 3
   },
   "file_extension": ".py",
   "mimetype": "text/x-python",
   "name": "python",
   "nbconvert_exporter": "python",
   "pygments_lexer": "ipython3",
   "version": "3.11.5"
  }
 },
 "nbformat": 4,
 "nbformat_minor": 2
}
