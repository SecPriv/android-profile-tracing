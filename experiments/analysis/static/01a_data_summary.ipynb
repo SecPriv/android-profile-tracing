{
 "cells": [
  {
   "cell_type": "code",
   "execution_count": 1,
   "metadata": {},
   "outputs": [],
   "source": [
    "import json\n",
    "import re\n",
    "from pathlib import Path\n",
    "import tqdm\n",
    "import pandas as pd\n",
    "import matplotlib.pyplot as plt\n",
    "import seaborn as sns\n",
    "import numpy as np\n",
    "import sh\n",
    "import glob\n",
    "from multiprocessing import Pool\n",
    "\n",
    "\n",
    "import analysishelper as ah\n",
    "import cachedefs as cd\n",
    "\n",
    "plt.rcParams['pdf.fonttype'] = 42\n",
    "plt.rcParams.update({'mathtext.default':  'regular' })"
   ]
  },
  {
   "cell_type": "code",
   "execution_count": 9,
   "metadata": {},
   "outputs": [],
   "source": [
    "if cd.CACHE_SAMPLE_PROFILES_PLOTABLE.exists():\n",
    "    df_plotable = pd.read_pickle(cd.CACHE_SAMPLE_PROFILES_PLOTABLE)\n",
    "else:\n",
    "    raise NotImplementedError(\"Missing cache\")\n"
   ]
  },
  {
   "cell_type": "code",
   "execution_count": 10,
   "metadata": {},
   "outputs": [
    {
     "data": {
      "text/html": [
       "<div>\n",
       "<style scoped>\n",
       "    .dataframe tbody tr th:only-of-type {\n",
       "        vertical-align: middle;\n",
       "    }\n",
       "\n",
       "    .dataframe tbody tr th {\n",
       "        vertical-align: top;\n",
       "    }\n",
       "\n",
       "    .dataframe thead th {\n",
       "        text-align: right;\n",
       "    }\n",
       "</style>\n",
       "<table border=\"1\" class=\"dataframe\">\n",
       "  <thead>\n",
       "    <tr style=\"text-align: right;\">\n",
       "      <th></th>\n",
       "      <th>shared_any</th>\n",
       "      <th>baseline_only_any</th>\n",
       "      <th>cloud_only_any</th>\n",
       "    </tr>\n",
       "  </thead>\n",
       "  <tbody>\n",
       "    <tr>\n",
       "      <th>count</th>\n",
       "      <td>844.000000</td>\n",
       "      <td>844.000000</td>\n",
       "      <td>844.000000</td>\n",
       "    </tr>\n",
       "    <tr>\n",
       "      <th>mean</th>\n",
       "      <td>7654.181280</td>\n",
       "      <td>5729.214455</td>\n",
       "      <td>12135.327014</td>\n",
       "    </tr>\n",
       "    <tr>\n",
       "      <th>std</th>\n",
       "      <td>12236.309911</td>\n",
       "      <td>14792.918780</td>\n",
       "      <td>11014.596855</td>\n",
       "    </tr>\n",
       "    <tr>\n",
       "      <th>min</th>\n",
       "      <td>0.000000</td>\n",
       "      <td>0.000000</td>\n",
       "      <td>0.000000</td>\n",
       "    </tr>\n",
       "    <tr>\n",
       "      <th>25%</th>\n",
       "      <td>142.750000</td>\n",
       "      <td>29.000000</td>\n",
       "      <td>2918.500000</td>\n",
       "    </tr>\n",
       "    <tr>\n",
       "      <th>50%</th>\n",
       "      <td>922.500000</td>\n",
       "      <td>347.000000</td>\n",
       "      <td>9650.000000</td>\n",
       "    </tr>\n",
       "    <tr>\n",
       "      <th>75%</th>\n",
       "      <td>12582.500000</td>\n",
       "      <td>2768.750000</td>\n",
       "      <td>18640.500000</td>\n",
       "    </tr>\n",
       "    <tr>\n",
       "      <th>max</th>\n",
       "      <td>84639.000000</td>\n",
       "      <td>141380.000000</td>\n",
       "      <td>71701.000000</td>\n",
       "    </tr>\n",
       "  </tbody>\n",
       "</table>\n",
       "</div>"
      ],
      "text/plain": [
       "         shared_any  baseline_only_any  cloud_only_any\n",
       "count    844.000000         844.000000      844.000000\n",
       "mean    7654.181280        5729.214455    12135.327014\n",
       "std    12236.309911       14792.918780    11014.596855\n",
       "min        0.000000           0.000000        0.000000\n",
       "25%      142.750000          29.000000     2918.500000\n",
       "50%      922.500000         347.000000     9650.000000\n",
       "75%    12582.500000        2768.750000    18640.500000\n",
       "max    84639.000000      141380.000000    71701.000000"
      ]
     },
     "execution_count": 10,
     "metadata": {},
     "output_type": "execute_result"
    }
   ],
   "source": [
    "any_methods = df_plotable[[\"shared_any\", \"baseline_only_any\", \"cloud_only_any\"]]\n",
    "any_methods.describe()"
   ]
  },
  {
   "cell_type": "code",
   "execution_count": null,
   "metadata": {},
   "outputs": [],
   "source": []
  }
 ],
 "metadata": {
  "kernelspec": {
   "display_name": "aot-profiles",
   "language": "python",
   "name": "python3"
  },
  "language_info": {
   "codemirror_mode": {
    "name": "ipython",
    "version": 3
   },
   "file_extension": ".py",
   "mimetype": "text/x-python",
   "name": "python",
   "nbconvert_exporter": "python",
   "pygments_lexer": "ipython3",
   "version": "3.11.5"
  }
 },
 "nbformat": 4,
 "nbformat_minor": 2
}
