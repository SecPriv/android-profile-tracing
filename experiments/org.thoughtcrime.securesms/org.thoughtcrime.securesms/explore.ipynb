{
 "cells": [
  {
   "cell_type": "code",
   "execution_count": 1,
   "id": "a3709647-eca6-4dd8-b426-2779f932c4fa",
   "metadata": {},
   "outputs": [
    {
     "data": {
      "text/plain": [
       "2"
      ]
     },
     "execution_count": 1,
     "metadata": {},
     "output_type": "execute_result"
    }
   ],
   "source": [
    "import androguard\n",
    "\n",
    "from androguard.core import apk, dex\n",
    "from androguard.core.analysis import analysis\n",
    "from androguard.misc import logger\n",
    "import sys\n",
    "from pathlib import Path\n",
    "import pickle\n",
    "import re\n",
    "\n",
    "from contextlib import suppress\n",
    "\n",
    "\n",
    "logger.remove()\n",
    "\n",
    "logger.add(sys.stderr, level=\"WARNING\")\n",
    "\n"
   ]
  },
  {
   "cell_type": "code",
   "execution_count": 2,
   "id": "8d86f52f-6a22-4617-bd6d-bee72006a12d",
   "metadata": {},
   "outputs": [
    {
     "name": "stdout",
     "output_type": "stream",
     "text": [
      "1\n"
     ]
    }
   ],
   "source": [
    "print(1 if True else 2)"
   ]
  },
  {
   "cell_type": "code",
   "execution_count": 3,
   "id": "68cb2347-80f3-4347-8d51-b91474fc4ad8",
   "metadata": {},
   "outputs": [],
   "source": [
    "def get_mapping_dex_idx_to_signature(apk_name=\"org.thoughtcrime.securesms.apk\"):\n",
    "    mapping = {}\n",
    "    a = apk.APK(apk_name)\n",
    "\n",
    "    dex_names = a.get_dex_names()\n",
    "\n",
    "    # fucking androguard looses the dex names at some point and hoping that order is preserved is not my style so we have to manually iterate over the analysis. aaargh\n",
    "    for dex_name in dex_names:\n",
    "        dex_bytes = a.get_file(dex_name)\n",
    "    \n",
    "        d = dex.DEX(dex_bytes)\n",
    "        dx = analysis.Analysis(d)\n",
    "\n",
    "        dex_num = 1 if dex_name == \"classes.dex\" else int(dex_name.removeprefix(\"classes\").removesuffix(\".dex\"))\n",
    "\n",
    "        mapping[dex_num] = {}\n",
    "    \n",
    "        for method_analysis in dx.get_methods():\n",
    "            method = method_analysis.get_method()\n",
    "            method_idx = method.get_method_idx()\n",
    "            class_name = method.get_class_name()\n",
    "            #print(f\"{dex_name}, DEX #{i}: {class_name}->{method.get_name()}{method.get_descriptor()}\")\n",
    "            #print(f\"{method.full_name}\")\n",
    "            mapping[dex_num][method_idx] = method.full_name\n",
    "\n",
    "    return mapping\n",
    "\n",
    "#mapping = get_mapping_dex_idx_to_signature()\n"
   ]
  },
  {
   "cell_type": "code",
   "execution_count": 4,
   "id": "dde82368-9e92-4641-9f91-5e001f9f5f81",
   "metadata": {},
   "outputs": [
    {
     "name": "stdout",
     "output_type": "stream",
     "text": [
      "loading mapping from cache!\n",
      "1: 58919\n",
      "2: 5132\n",
      "3: 58421\n",
      "4: 57077\n",
      "5: 56438\n",
      "6: 55476\n",
      "7: 14871\n",
      "total:     306334\n",
      "total uniq:306334\n"
     ]
    }
   ],
   "source": [
    "\n",
    "def read_from_cache_or_generate_mapping():\n",
    "    cachepath = Path(\"mapping_dex_method_idx_to_signature.pickle\")\n",
    "    if not cachepath.exists():\n",
    "        print(f\"no cache found, loading mapping from apk\")\n",
    "        mapping = get_mapping_dex_idx_to_signature()\n",
    "        with open(cachepath, 'wb') as handle:\n",
    "            pickle.dump(mapping, handle, protocol=pickle.HIGHEST_PROTOCOL)\n",
    "    else:\n",
    "        print(f\"loading mapping from cache!\")\n",
    "        with open(cachepath, 'rb') as handle:\n",
    "            mapping = pickle.load(handle)\n",
    "\n",
    "    all_methods = set()\n",
    "    total_num = 0\n",
    "    for k,v in mapping.items():\n",
    "        print(f\"{k}: {len(v)}\")\n",
    "        total_num += len(v)\n",
    "        all_methods.update(v.values())\n",
    "    print(f\"total:     {total_num}\")\n",
    "    print(f\"total uniq:{len(all_methods)}\")\n",
    "    \n",
    "    return mapping\n",
    "\n",
    "mapping = read_from_cache_or_generate_mapping()\n"
   ]
  },
  {
   "cell_type": "code",
   "execution_count": 5,
   "id": "39c1844e-53d9-4dd9-9e5a-d9e0f3f90b27",
   "metadata": {},
   "outputs": [],
   "source": [
    "def parse_number_line(line, prefix, split, suffix):\n",
    "    numbers = []\n",
    "    for number in line.removeprefix(prefix).removesuffix(suffix).split(split):\n",
    "        numbers.append(int(number))\n",
    "    return set(numbers)\n",
    "\n",
    "def profile_txt_to_json(proftxtpath: Path):\n",
    "    profile_json = {}\n",
    "    with open(proftxtpath, \"r\") as f:\n",
    "        current_dex = -1\n",
    "        for raw_line in f:\n",
    "            line = raw_line.strip()\n",
    "            # skip headers and such\n",
    "            if (\n",
    "                line.startswith(\"===\")\n",
    "                or line.startswith(\"ProfileInfo\")\n",
    "                or line == \"\"\n",
    "            ):\n",
    "                continue\n",
    "            # demarks new dexfile entry\n",
    "            elif \"[index=\" in line:\n",
    "                parts = line.split(\" \")\n",
    "                raw_dex = parts[0]\n",
    "                # the first dex file can be either implied or explicit\n",
    "                if raw_dex == \"base.apk\" or raw_dex == \"classes.dex\":\n",
    "                    current_dex = 1\n",
    "                else:\n",
    "                    # all others are always base.apk!classesN.dex\n",
    "                    current_dex = int(\n",
    "                        raw_dex.removeprefix(\"base.apk!\")\n",
    "                        .removeprefix(\"classes\")\n",
    "                        .removesuffix(\".dex\")\n",
    "                    )\n",
    "                profile_json[current_dex] = {}\n",
    "            # parse the different method classifications\n",
    "            elif line.startswith(\"hot methods:\") and line != \"hot methods:\":\n",
    "                # hot methods have some more data that we ignore\n",
    "                line_without_args = re.sub(r\"\\[[^\\]]+\\]\", \"[]\", line)\n",
    "                profile_json[current_dex][\"hot\"] = parse_number_line(\n",
    "                    line_without_args, \"hot methods: \", \"[], \", \"[],\"\n",
    "                )\n",
    "            elif line.startswith(\"startup methods:\") and line != \"startup methods:\":\n",
    "                profile_json[current_dex][\"startup\"] = parse_number_line(\n",
    "                    line, \"startup methods: \", \", \", \",\"\n",
    "                )\n",
    "            elif (\n",
    "                line.startswith(\"post startup methods:\")\n",
    "                and line != \"post startup methods:\"\n",
    "            ):\n",
    "                profile_json[current_dex][\"post\"] = parse_number_line(\n",
    "                    line, \"post startup methods: \", \", \", \",\"\n",
    "                )\n",
    "            # we parse it but don't use it\n",
    "            elif line.startswith(\"classes:\") and line != \"classes:\":\n",
    "                profile_json[current_dex][\"classes\"] = parse_number_line(\n",
    "                    line, \"classes: \", \",\", \",\"\n",
    "                )\n",
    "    return profile_json"
   ]
  },
  {
   "cell_type": "code",
   "execution_count": 6,
   "id": "4f434609-0604-4e01-9ff0-5b264e65a23f",
   "metadata": {},
   "outputs": [],
   "source": [
    "cloud_path = Path(\"org.thoughtcrime.securesms.dm_files/primary.profdump\")\n",
    "base_path  = Path(\"org.thoughtcrime.securesms.apk_files/assets/dexopt/baseline.profdump\")\n",
    "\n",
    "cloud = profile_txt_to_json(cloud_path)\n",
    "base  = profile_txt_to_json(base_path)"
   ]
  },
  {
   "cell_type": "code",
   "execution_count": 7,
   "id": "2e94ff1c-05b4-4c75-8918-3a815abae5c4",
   "metadata": {},
   "outputs": [
    {
     "name": "stdout",
     "output_type": "stream",
     "text": [
      "cloud:\n",
      "  1:\n",
      "    hot:     24732\n",
      "    startup: 25021\n",
      "    post:    0\n",
      "  2:\n",
      "    hot:     115\n",
      "    startup: 113\n",
      "    post:    0\n",
      "  3:\n",
      "    hot:     7196\n",
      "    startup: 7547\n",
      "    post:    0\n",
      "  4:\n",
      "    hot:     10012\n",
      "    startup: 10642\n",
      "    post:    0\n",
      "  5:\n",
      "    hot:     4089\n",
      "    startup: 5703\n",
      "    post:    0\n",
      "  6:\n",
      "    hot:     3908\n",
      "    startup: 4762\n",
      "    post:    0\n",
      "  7:\n",
      "    hot:     431\n",
      "    startup: 578\n",
      "    post:    0\n",
      "baseline:\n",
      "  1:\n",
      "    hot:     24716\n",
      "    startup: 24718\n",
      "    post:    25395\n",
      "  2:\n",
      "    hot:     112\n",
      "    startup: 110\n",
      "    post:    115\n",
      "  3:\n",
      "    hot:     7843\n",
      "    startup: 7964\n",
      "    post:    8331\n",
      "  4:\n",
      "    hot:     11083\n",
      "    startup: 11213\n",
      "    post:    11944\n",
      "  5:\n",
      "    hot:     5707\n",
      "    startup: 5721\n",
      "    post:    8215\n",
      "  6:\n",
      "    hot:     5458\n",
      "    startup: 6028\n",
      "    post:    6097\n",
      "  7:\n",
      "    hot:     683\n",
      "    startup: 814\n",
      "    post:    705\n"
     ]
    }
   ],
   "source": [
    "# dump to files verbose\n",
    "print(\"cloud:\")\n",
    "for dexid, methods_by_type in cloud.items():\n",
    "    #print(f\"{dexid}: {methods_by_type.keys()}\")\n",
    "    print(f\"  {dexid}:\")\n",
    "    print(f\"    hot:     {len(methods_by_type['hot'])}\")\n",
    "    print(f\"    startup: {len(methods_by_type['startup'])}\")\n",
    "    print(f\"    post:    {len(methods_by_type['post']) if 'post' in methods_by_type.keys() else 0}\")\n",
    "print(\"baseline:\")\n",
    "for dexid, methods_by_type in base.items():\n",
    "    #print(f\"{dexid}: {methods_by_type.keys()}\")\n",
    "    print(f\"  {dexid}:\")\n",
    "    print(f\"    hot:     {len(methods_by_type['hot'])}\")\n",
    "    print(f\"    startup: {len(methods_by_type['startup'])}\")\n",
    "    print(f\"    post:    {len(methods_by_type['post']) if 'post' in methods_by_type.keys() else 0}\")"
   ]
  },
  {
   "cell_type": "code",
   "execution_count": 8,
   "id": "819dac2b-dee9-4d90-9f13-fa2179ab743d",
   "metadata": {},
   "outputs": [
    {
     "name": "stdout",
     "output_type": "stream",
     "text": [
      "55755\n"
     ]
    }
   ],
   "source": [
    "count = 0\n",
    "resultingmethods = [] # (signature, cloud_hot, cloud_startup, cloud_post, base_hot, base_startup, base_post)\n",
    "\n",
    "set_dexids_with_profilemethods = set(list(cloud.keys()) + list(base.keys()))\n",
    "for dex_id,methods in mapping.items():\n",
    "    if not dex_id in set_dexids_with_profilemethods:\n",
    "        continue\n",
    "\n",
    "    for method_idx, method_sig in methods.items():\n",
    "        cloud_hot = cloud_startup = cloud_post = base_hot = base_startup = base_post = False\n",
    "        with suppress(KeyError):\n",
    "            cloud_hot = method_idx in cloud[dex_id]['hot']\n",
    "        with suppress(KeyError):\n",
    "            cloud_startup = method_idx in cloud[dex_id]['startup']\n",
    "        with suppress(KeyError):\n",
    "            cloud_post = method_idx in cloud[dex_id]['post']\n",
    "        with suppress(KeyError):\n",
    "            base_hot = method_idx in base[dex_id]['hot']\n",
    "        with suppress(KeyError):\n",
    "            base_startup = method_idx in base[dex_id]['startup']\n",
    "        with suppress(KeyError):\n",
    "            base_post = method_idx in base[dex_id]['post']\n",
    "        if any([cloud_hot, cloud_startup, cloud_post, base_hot, base_startup, base_post]):\n",
    "            resultingmethods.append((method_sig, cloud_hot, cloud_startup, cloud_post, base_hot, base_startup, base_post))\n",
    "        \n",
    "            #count += 1\n",
    "            #if count > 100:\n",
    "            #    break\n",
    "\n",
    "print(len(resultingmethods))"
   ]
  },
  {
   "cell_type": "code",
   "execution_count": 9,
   "id": "d1688de2-6a3b-4771-8aee-9d3236dad6c8",
   "metadata": {},
   "outputs": [],
   "source": [
    "with open(\"resultingmethods.csv\", \"w\") as f:\n",
    "    for method_sig, cloud_hot, cloud_startup, cloud_post, base_hot, base_startup, base_post in resultingmethods:\n",
    "        f.write(f\"{method_sig}|{cloud_hot}|{cloud_startup}|{cloud_post}|{base_hot}|{base_startup}|{base_post}\\n\")"
   ]
  },
  {
   "cell_type": "code",
   "execution_count": null,
   "id": "62aa9a82-b722-4f9a-879b-5d715c12531e",
   "metadata": {},
   "outputs": [],
   "source": []
  },
  {
   "cell_type": "code",
   "execution_count": null,
   "id": "432e4775-5cd0-4525-8dee-24f1eeb675fd",
   "metadata": {},
   "outputs": [],
   "source": []
  },
  {
   "cell_type": "code",
   "execution_count": null,
   "id": "6378ec10-85c5-4e3d-aeb1-6baf9f6df602",
   "metadata": {},
   "outputs": [],
   "source": []
  },
  {
   "cell_type": "code",
   "execution_count": null,
   "id": "8561ada5-7cd7-48d9-a905-0cf99475f4cb",
   "metadata": {},
   "outputs": [],
   "source": []
  },
  {
   "cell_type": "code",
   "execution_count": null,
   "id": "8eb3c7dc-4645-414b-8a74-250d77c7a52b",
   "metadata": {},
   "outputs": [],
   "source": []
  },
  {
   "cell_type": "code",
   "execution_count": null,
   "id": "00a245de-fcbc-4feb-aeb3-562ebcfec5dd",
   "metadata": {},
   "outputs": [],
   "source": [
    "def get_activities(apk_name=\"org.thoughtcrime.securesms.apk\"):\n",
    "    a = apk.APK(apk_name)\n",
    "    return a"
   ]
  },
  {
   "cell_type": "code",
   "execution_count": 3,
   "id": "36745324-0156-42f6-afc7-840ce736294e",
   "metadata": {},
   "outputs": [],
   "source": [
    "a = apk.APK(\"org.thoughtcrime.securesms.apk\")\n"
   ]
  },
  {
   "cell_type": "code",
   "execution_count": 5,
   "id": "c57b8e21-dba9-4fab-a054-f0baee65fa72",
   "metadata": {},
   "outputs": [
    {
     "data": {
      "text/plain": [
       "90"
      ]
     },
     "execution_count": 5,
     "metadata": {},
     "output_type": "execute_result"
    }
   ],
   "source": [
    "len(a.get_activities())"
   ]
  },
  {
   "cell_type": "code",
   "execution_count": 6,
   "id": "4f822c63-a8ce-4238-82d2-f05c6351d442",
   "metadata": {},
   "outputs": [
    {
     "data": {
      "text/plain": [
       "12"
      ]
     },
     "execution_count": 6,
     "metadata": {},
     "output_type": "execute_result"
    }
   ],
   "source": [
    "len(a.get_activity_aliases())"
   ]
  },
  {
   "cell_type": "code",
   "execution_count": 7,
   "id": "55649741-997f-4ff4-a8cf-e91210b7b879",
   "metadata": {},
   "outputs": [
    {
     "data": {
      "text/plain": [
       "['org.thoughtcrime.securesms.contactshare.ContactShareEditActivity',\n",
       " 'org.thoughtcrime.securesms.contacts.TurnOffContactJoinedNotificationsActivity',\n",
       " 'org.thoughtcrime.securesms.maps.PlacePickerActivity',\n",
       " 'org.thoughtcrime.securesms.ShortcutLauncherActivity',\n",
       " 'org.thoughtcrime.securesms.MainActivity',\n",
       " 'org.thoughtcrime.securesms.SmsSendtoActivity',\n",
       " 'org.thoughtcrime.securesms.groups.ui.chooseadmin.ChooseNewAdminActivity',\n",
       " 'com.android.billingclient.api.ProxyBillingActivityV2',\n",
       " 'com.android.billingclient.api.ProxyBillingActivity',\n",
       " 'org.thoughtcrime.securesms.pin.PinRestoreActivity',\n",
       " 'org.thoughtcrime.securesms.groups.ui.creategroup.CreateGroupActivity',\n",
       " 'org.thoughtcrime.securesms.groups.ui.addtogroup.AddToGroupsActivity',\n",
       " 'org.thoughtcrime.securesms.groups.ui.addmembers.AddMembersActivity',\n",
       " 'org.thoughtcrime.securesms.megaphone.ClientDeprecatedActivity',\n",
       " 'org.thoughtcrime.securesms.ratelimit.RecaptchaProofActivity',\n",
       " 'org.thoughtcrime.securesms.wallpaper.crop.WallpaperImageSelectionActivity',\n",
       " 'org.thoughtcrime.securesms.components.settings.app.usernamelinks.main.QrImageSelectionActivity',\n",
       " 'org.thoughtcrime.securesms.profiles.edit.CreateProfileActivity',\n",
       " 'org.thoughtcrime.securesms.scribbles.ImageEditorStickerSelectActivity',\n",
       " 'org.thoughtcrime.securesms.contactshare.ContactNameEditActivity',\n",
       " 'org.thoughtcrime.securesms.wallpaper.crop.WallpaperCropActivity',\n",
       " 'org.thoughtcrime.securesms.reactions.edit.EditReactionsActivity',\n",
       " 'org.thoughtcrime.securesms.components.settings.app.subscription.donate.CheckoutFlowActivity',\n",
       " 'org.thoughtcrime.securesms.groups.ui.incommon.GroupsInCommonActivity',\n",
       " 'com.google.android.gms.auth.api.signin.internal.SignInHubActivity',\n",
       " 'org.thoughtcrime.securesms.conversation.ConversationPopupActivity',\n",
       " 'org.thoughtcrime.securesms.profiles.manage.EditProfileActivity',\n",
       " 'org.thoughtcrime.securesms.components.webrtc.v2.WebRtcCallActivity',\n",
       " 'org.thoughtcrime.securesms.registrationv3.ui.restore.RemoteRestoreActivity',\n",
       " 'org.thoughtcrime.securesms.messagerequests.CalleeMustAcceptMessageRequestActivity',\n",
       " 'org.thoughtcrime.securesms.InviteActivity',\n",
       " 'org.thoughtcrime.securesms.DeviceProvisioningActivity',\n",
       " 'org.thoughtcrime.securesms.sharing.interstitial.ShareInterstitialActivity',\n",
       " 'org.thoughtcrime.securesms.components.settings.app.usernamelinks.main.UsernameQrScannerActivity',\n",
       " 'org.thoughtcrime.securesms.sharing.v2.ShareActivity',\n",
       " 'org.thoughtcrime.securesms.stickers.StickerPackPreviewActivity',\n",
       " 'org.thoughtcrime.securesms.deeplinks.DeepLinkEntryActivity',\n",
       " 'org.thoughtcrime.securesms.conversation.v2.ConversationActivity',\n",
       " 'org.thoughtcrime.securesms.conversation.BubbleConversationActivity',\n",
       " 'org.thoughtcrime.securesms.groups.ui.invitesandrequests.ManagePendingAndRequestingMembersActivity',\n",
       " 'org.thoughtcrime.securesms.devicetransfer.olddevice.OldDeviceExitActivity',\n",
       " 'org.thoughtcrime.securesms.backup.v2.ui.subscription.MessageBackupsCheckoutActivity',\n",
       " 'org.thoughtcrime.securesms.registrationv3.olddevice.TransferAccountActivity',\n",
       " 'org.thoughtcrime.securesms.registration.ui.RegistrationActivity',\n",
       " 'org.thoughtcrime.securesms.recipients.ui.disappearingmessages.RecipientDisappearingMessagesActivity',\n",
       " 'org.thoughtcrime.securesms.registrationv3.ui.RegistrationActivity',\n",
       " 'org.thoughtcrime.securesms.migrations.ApplicationMigrationActivity',\n",
       " 'org.thoughtcrime.securesms.blocked.BlockedUsersActivity',\n",
       " 'org.thoughtcrime.securesms.PassphraseCreateActivity',\n",
       " 'org.thoughtcrime.securesms.devicetransfer.olddevice.OldDeviceTransferActivity',\n",
       " 'org.thoughtcrime.securesms.PassphrasePromptActivity',\n",
       " 'org.thoughtcrime.securesms.restore.RestoreActivity',\n",
       " 'com.google.android.gms.common.api.GoogleApiActivity',\n",
       " 'org.thoughtcrime.securesms.revealable.ViewOnceMessageActivity',\n",
       " 'org.thoughtcrime.securesms.contactshare.SharedContactDetailsActivity',\n",
       " 'org.thoughtcrime.securesms.NewConversationActivity',\n",
       " 'org.thoughtcrime.securesms.stickers.StickerManagementActivity',\n",
       " 'org.thoughtcrime.securesms.webrtc.VoiceCallShare',\n",
       " 'org.thoughtcrime.securesms.recipients.ui.findby.FindByActivity',\n",
       " 'org.thoughtcrime.securesms.calls.links.details.CallLinkDetailsActivity',\n",
       " 'org.thoughtcrime.securesms.groups.ui.creategroup.details.AddGroupDetailsActivity',\n",
       " 'org.thoughtcrime.securesms.calls.new.NewCallActivity',\n",
       " 'org.thoughtcrime.securesms.PushContactSelectionActivity',\n",
       " 'org.thoughtcrime.securesms.giph.ui.GiphyActivity',\n",
       " 'org.thoughtcrime.securesms.logsubmit.SubmitDebugLogActivity',\n",
       " 'org.thoughtcrime.securesms.mediasend.v2.MediaSelectionActivity',\n",
       " 'org.thoughtcrime.securesms.conversation.mutiselect.forward.MultiselectForwardActivity',\n",
       " 'org.thoughtcrime.securesms.mediapreview.MediaPreviewV2Activity',\n",
       " 'org.thoughtcrime.securesms.mediasend.v2.stories.StoriesMultiselectForwardActivity',\n",
       " 'org.thoughtcrime.securesms.PassphraseChangeActivity',\n",
       " 'org.thoughtcrime.securesms.AvatarPreviewActivity',\n",
       " 'org.thoughtcrime.securesms.payments.preferences.PaymentsActivity',\n",
       " 'org.thoughtcrime.securesms.lock.v2.SvrMigrationActivity',\n",
       " 'org.thoughtcrime.securesms.verify.VerifyIdentityActivity',\n",
       " 'org.thoughtcrime.securesms.nicknames.NicknameActivity',\n",
       " 'org.thoughtcrime.securesms.lock.v2.CreateSvrPinActivity',\n",
       " 'org.thoughtcrime.securesms.components.settings.app.AppSettingsActivity',\n",
       " 'org.thoughtcrime.securesms.stories.my.MyStoriesActivity',\n",
       " 'org.thoughtcrime.securesms.stories.settings.StorySettingsActivity',\n",
       " 'org.thoughtcrime.securesms.avatar.photo.PhotoEditorActivity',\n",
       " 'org.thoughtcrime.securesms.mediasend.AvatarSelectionActivity',\n",
       " 'org.thoughtcrime.securesms.stories.viewer.StoryViewerActivity',\n",
       " 'org.thoughtcrime.securesms.components.settings.app.changenumber.ChangeNumberLockActivity',\n",
       " 'org.thoughtcrime.securesms.components.settings.conversation.ConversationSettingsActivity',\n",
       " 'org.thoughtcrime.securesms.mediaoverview.MediaOverviewActivity',\n",
       " 'org.thoughtcrime.securesms.DummyActivity',\n",
       " 'org.thoughtcrime.securesms.components.settings.conversation.CallInfoActivity',\n",
       " 'org.thoughtcrime.securesms.PlayServicesProblemActivity',\n",
       " 'org.thoughtcrime.securesms.wallpaper.ChatWallpaperActivity',\n",
       " 'org.thoughtcrime.securesms.wallpaper.ChatWallpaperPreviewActivity']"
      ]
     },
     "execution_count": 7,
     "metadata": {},
     "output_type": "execute_result"
    }
   ],
   "source": [
    "a.get_activities()"
   ]
  },
  {
   "cell_type": "code",
   "execution_count": 8,
   "id": "95ca7a29-11c1-4048-b8ca-ffaa61796097",
   "metadata": {},
   "outputs": [
    {
     "data": {
      "text/plain": [
       "[{'name': 'org.thoughtcrime.securesms.RoutingActivityAltWeather',\n",
       "  'targetActivity': 'org.thoughtcrime.securesms.MainActivity'},\n",
       " {'name': 'org.thoughtcrime.securesms.RoutingActivityAltNews',\n",
       "  'targetActivity': 'org.thoughtcrime.securesms.MainActivity'},\n",
       " {'name': 'org.thoughtcrime.securesms.RoutingActivityAltNotes',\n",
       "  'targetActivity': 'org.thoughtcrime.securesms.MainActivity'},\n",
       " {'name': 'org.thoughtcrime.securesms.RoutingActivityAltBubbles',\n",
       "  'targetActivity': 'org.thoughtcrime.securesms.MainActivity'},\n",
       " {'name': 'org.thoughtcrime.securesms.RoutingActivityAltYellow',\n",
       "  'targetActivity': 'org.thoughtcrime.securesms.MainActivity'},\n",
       " {'name': 'org.thoughtcrime.securesms.RoutingActivityAltWaves',\n",
       "  'targetActivity': 'org.thoughtcrime.securesms.MainActivity'},\n",
       " {'name': 'org.thoughtcrime.securesms.RoutingActivity',\n",
       "  'targetActivity': 'org.thoughtcrime.securesms.MainActivity'},\n",
       " {'name': 'org.thoughtcrime.securesms.RoutingActivityAltWhite',\n",
       "  'targetActivity': 'org.thoughtcrime.securesms.MainActivity'},\n",
       " {'name': 'org.thoughtcrime.securesms.RoutingActivityAltDark',\n",
       "  'targetActivity': 'org.thoughtcrime.securesms.MainActivity'},\n",
       " {'name': 'org.thoughtcrime.securesms.RoutingActivityAltDarkVariant',\n",
       "  'targetActivity': 'org.thoughtcrime.securesms.MainActivity'},\n",
       " {'name': 'org.thoughtcrime.securesms.RoutingActivityAltColor',\n",
       "  'targetActivity': 'org.thoughtcrime.securesms.MainActivity'},\n",
       " {'name': 'org.thoughtcrime.securesms.RoutingActivityAltChat',\n",
       "  'targetActivity': 'org.thoughtcrime.securesms.MainActivity'}]"
      ]
     },
     "execution_count": 8,
     "metadata": {},
     "output_type": "execute_result"
    }
   ],
   "source": [
    "a.get_activity_aliases()"
   ]
  },
  {
   "cell_type": "code",
   "execution_count": null,
   "id": "b5b4df02-a527-426a-be14-1fb9f498c76d",
   "metadata": {},
   "outputs": [],
   "source": []
  }
 ],
 "metadata": {
  "kernelspec": {
   "display_name": "Python 3 (ipykernel)",
   "language": "python",
   "name": "python3"
  },
  "language_info": {
   "codemirror_mode": {
    "name": "ipython",
    "version": 3
   },
   "file_extension": ".py",
   "mimetype": "text/x-python",
   "name": "python",
   "nbconvert_exporter": "python",
   "pygments_lexer": "ipython3",
   "version": "3.12.7"
  }
 },
 "nbformat": 4,
 "nbformat_minor": 5
}
